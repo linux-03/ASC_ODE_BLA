{
 "cells": [
  {
   "cell_type": "code",
   "execution_count": 1,
   "id": "2b91d894-0a96-42c0-8ac4-a96552167e27",
   "metadata": {},
   "outputs": [
    {
     "ename": "ModuleNotFoundError",
     "evalue": "No module named 'rbFET'",
     "output_type": "error",
     "traceback": [
      "\u001b[0;31m---------------------------------------------------------------------------\u001b[0m",
      "\u001b[0;31mModuleNotFoundError\u001b[0m                       Traceback (most recent call last)",
      "Cell \u001b[0;32mIn[1], line 1\u001b[0m\n\u001b[0;32m----> 1\u001b[0m \u001b[38;5;28;01mfrom\u001b[39;00m\u001b[38;5;250m \u001b[39m\u001b[38;5;21;01mrbFET\u001b[39;00m\u001b[38;5;250m \u001b[39m\u001b[38;5;28;01mimport\u001b[39;00m \u001b[38;5;241m*\u001b[39m\n",
      "\u001b[0;31mModuleNotFoundError\u001b[0m: No module named 'rbFET'"
     ]
    }
   ],
   "source": [
    "from rbFET import *"
   ]
  },
  {
   "cell_type": "code",
   "execution_count": 1,
   "id": "1257c4a8-4bd0-4647-ae95-160dc125c443",
   "metadata": {
    "editable": true,
    "slideshow": {
     "slide_type": ""
    },
    "tags": []
   },
   "outputs": [],
   "source": [
    "from netgen.occ import *\n",
    "\n",
    "import sys\n",
    "sys.path.append(\"../build_release/\")\n",
    "from rigid_body_FEM import *\n",
    "from rigid_body_FEM.bla import *\n",
    "\n",
    "import pythreejs as p3\n",
    "\n",
    "from IPython.display import display\n",
    "import ipywidgets as widgets"
   ]
  },
  {
   "cell_type": "markdown",
   "id": "a009e1a4-8e2e-47ad-8bb0-b4369843f556",
   "metadata": {
    "editable": true,
    "slideshow": {
     "slide_type": ""
    },
    "tags": []
   },
   "source": [
    "### Helper Functions for body setup"
   ]
  },
  {
   "cell_type": "code",
   "execution_count": 2,
   "id": "a4db6039-5747-4850-bba3-b9ade6445e9e",
   "metadata": {
    "editable": true,
    "slideshow": {
     "slide_type": ""
    },
    "tags": []
   },
   "outputs": [],
   "source": [
    "def extract_vertices(obj: TopoDS_Shape):\n",
    "    \"extracts a p3js compatible vertex list from a netgen.occ TopoDS_Shape\"\n",
    "    \n",
    "    data = obj._webgui_data()[\"Bezier_trig_points\"]\n",
    "    \n",
    "    # for every face, each of the verts arrays holds one vertex\n",
    "    verts1 = data[0]\n",
    "    verts2 = data[1]\n",
    "    verts3 = data[2]\n",
    "    \n",
    "    # corresponding normals\n",
    "    normals1 = data[3]\n",
    "    normals2 = data[4]\n",
    "    normals3 = data[5]\n",
    "\n",
    "    combined_vertices = []\n",
    "    for i in range(0, len(verts1), 4):\n",
    "        combined_vertices.append(verts1[i : i+3])\n",
    "        combined_vertices.append(verts2[i : i+3])\n",
    "        combined_vertices.append(verts3[i : i+3])\n",
    "\n",
    "    combined_normals = []\n",
    "    for i in range(0, len(normals1), 3):\n",
    "        combined_normals.append(normals1[i : i+3])\n",
    "        combined_normals.append(normals2[i : i+3])\n",
    "        combined_normals.append(normals3[i : i+3])\n",
    "            \n",
    "    return combined_vertices, combined_normals\n",
    "\n",
    "\n",
    "def body_from_solid(obj):\n",
    "    \"extracts the mass matrix of the TopAbs_ShapeEnum.SOLID obj, using the figures computed by netgen\"\n",
    "\n",
    "    # important: move the center of mass into the origin\n",
    "    obj = obj.Move((-obj.center[0], -obj.center[1], -obj.center[2]))\n",
    "    \n",
    "    # copy the inertia matrix from netgen\n",
    "    inertia_matrix = bla.Matrix(3,3)\n",
    "    for i in range(3):\n",
    "       for j in range(3):\n",
    "           inertia_matrix[i, j] = obj.inertia[i, j]\n",
    "\n",
    "    # inertia_matrix[0,0] = 1\n",
    "    # inertia_matrix[0,1] = 0\n",
    "    # inertia_matrix[0,2] = 0\n",
    "    # inertia_matrix[1,0] = 0\n",
    "    # inertia_matrix[1,1] = 1\n",
    "    # inertia_matrix[1,2] = 0\n",
    "    # inertia_matrix[2,0] = 0\n",
    "    # inertia_matrix[2,1] = 0\n",
    "    # inertia_matrix[2,2] = 1\n",
    "\n",
    "    # copy the center of mass from netgen\n",
    "    center_of_mass = bla.Vector(3)\n",
    "    for i in range(3): center_of_mass[i] = obj.center[i]\n",
    "\n",
    "    # rearrange it in C++ to make the mass matrix (the elegant way, using MatrixView)\n",
    "    body = RigidBody_FEM()\n",
    "    #for i in range(3) : body.center[i] = obj.center[i]\n",
    "    #body.mass = obj.mass\n",
    "    #body.inertia = inertia_matrix\n",
    "    #body.recalcMassMatrix()\n",
    "\n",
    "    body.vertices, body.normals = extract_vertices(obj)\n",
    "    \n",
    "    return body"
   ]
  },
  {
   "cell_type": "markdown",
   "id": "5904e0c1-20ac-45e9-9587-728549d21cfd",
   "metadata": {},
   "source": [
    "## Setup System"
   ]
  },
  {
   "cell_type": "code",
   "execution_count": 3,
   "id": "bf6e80a0-d42c-4425-a739-de6696f2b75b",
   "metadata": {
    "editable": true,
    "slideshow": {
     "slide_type": ""
    },
    "tags": []
   },
   "outputs": [],
   "source": [
    "# set up OCC CAD model\n",
    "# center of mass is automatically moved to origin by body_from_solid\n",
    "box = Box(Pnt(-0.3,-0.3,-0.3), Pnt(0.3,0.3,0.3))"
   ]
  },
  {
   "cell_type": "code",
   "execution_count": null,
   "id": "bd6df028-10d7-4932-99cf-eb61bf3bc1cc",
   "metadata": {
    "editable": true,
    "slideshow": {
     "slide_type": ""
    },
    "tags": []
   },
   "outputs": [],
   "source": [
    "# set up physics simulation environment\n",
    "rbs = RBS_FEM()\n",
    "#rbs.gravity = (0, -9.81, 0)\n",
    "# set up physics simulation environment\n",
    "rbs = RBS_FEM()\n",
    "#rbs.gravity = (0, -9.81, 0)\n",
    "\n",
    "# set up physics simulation object for cube\n",
    "r0 =  body_from_solid(box)\n",
    "r1 =  body_from_solid(box)\n",
    "p_ = Vector(6)\n",
    "\n",
    "r0.q_trans = [0, 0, 1]\n",
    "r1.q_trans = [0, 0, 2]\n",
    "r0.q[0, 0] = 1\n",
    "r0.q[1, 1] = 1\n",
    "r0.q[2, 2] = 1\n",
    "r1.q[0, 0] = 1\n",
    "r1.q[1, 1] = 1\n",
    "r1.q[2, 2] = 1\n",
    "\n",
    "r0.p_skew = [0, 0, 0]\n",
    "r0.p_trans = [0, 0, 0]\n",
    "r1.p_skew = [0, 0, 0]\n",
    "r1.p_trans = [0, 0, 0]\n",
    "\n",
    "rbs.add(r0)\n",
    "rbs.add(r1)\n",
    "\n",
    "c1 = Connector()\n",
    "c1.body_index = 0\n",
    "c1.RefPos = [0, 0, 0]\n",
    "c1.type = False\n",
    "\n",
    "c2 = Connector()\n",
    "c2.body_index = 1\n",
    "c2.RefPos = [0, 0.5, 0.5]\n",
    "c2.type = False\n",
    "\n",
    "c0 = Connector()\n",
    "c0.RefPos = [0, 0, 0]\n",
    "c0.type = True\n",
    "\n",
    "bm = Beam(c0, c1)\n",
    "bm1 = Beam(c1, c2)\n",
    "\n",
    "rbs.add(bm)\n",
    "rbs.add(bm1)\n",
    "# set up physics simulation object for cube\n",
    "r0 =  body_from_solid(box)\n",
    "p_ = Vector(6)\n",
    "\n",
    "r0.q_trans = [0, 0, 1]\n",
    "r0.q[0, 0] = 1\n",
    "r0.q[1, 1] = 1\n",
    "r0.q[2, 2] = 1\n",
    "\n",
    "r0.p_skew = [0, 0, 0]\n",
    "r0.p_trans = [0, 0, 0]\n",
    "\n",
    "rbs.add(r0)\n",
    "\n",
    "c0 = Connector()\n",
    "c0.body_index = 0\n",
    "c0.RefPos = [0, .5, 0.5]\n",
    "c0.type = False\n",
    "\n",
    "c1 = Connector()\n",
    "c1.RefPos = [0, 0, 0]\n",
    "c1.type = True\n",
    "\n",
    "bm = Beam(c0, c1)\n",
    "\n",
    "rbs.add(bm)\n",
    "\n",
    "#rbs.saveState()\n",
    "#rbs.info_RBS()"
   ]
  },
  {
   "cell_type": "code",
   "execution_count": null,
   "id": "c4cb7e20-5c61-475c-9588-e8b9b6d75a48",
   "metadata": {},
   "outputs": [],
   "source": [
    "#simulate(rbs, 0.15/50, 1)"
   ]
  },
  {
   "cell_type": "code",
   "execution_count": null,
   "id": "801e4888-eba8-49a9-8bab-fb09476777c3",
   "metadata": {},
   "outputs": [],
   "source": [
    "# rbs.info_RBS()"
   ]
  },
  {
   "cell_type": "code",
   "execution_count": null,
   "id": "b7edaab9-4d6f-4733-9741-0a4cd97250ba",
   "metadata": {},
   "outputs": [],
   "source": [
    "c0.RefPos"
   ]
  },
  {
   "cell_type": "code",
   "execution_count": null,
   "id": "a0b36c33-1fca-4fe6-9217-f59ceca80868",
   "metadata": {},
   "outputs": [],
   "source": [
    "bm.connectorB.RefPos"
   ]
  },
  {
   "cell_type": "code",
   "execution_count": null,
   "id": "56cb4bf3-669e-4420-97ba-bc06309d7733",
   "metadata": {},
   "outputs": [],
   "source": [
    "rbs.beams()[0].connectorA.RefPos"
   ]
  },
  {
   "cell_type": "code",
   "execution_count": null,
   "id": "2b3ab937-5b0e-44a0-8ef4-6eaa0a49abf4",
   "metadata": {},
   "outputs": [],
   "source": [
    "rbs.beams()[0].connectorB.RefPos"
   ]
  },
  {
   "cell_type": "markdown",
   "id": "bcbe3b20-ed92-438f-830d-88573e762fae",
   "metadata": {},
   "source": [
    "## Setup Graphics"
   ]
  },
  {
   "cell_type": "code",
   "execution_count": null,
   "id": "c3ee5843-fe01-4ebf-822f-64a0e5dd74dc",
   "metadata": {},
   "outputs": [],
   "source": [
    "def appendConnector(c,connectors):\n",
    "    p = rbs.connectorPos(c)\n",
    "    if(c.type == 0):\n",
    "        color = 'green'\n",
    "    else :\n",
    "        color = 'black'\n",
    "    connectors.append(\n",
    "        p3.Mesh(p3.SphereBufferGeometry(0.2, 16, 16),\n",
    "             p3.MeshStandardMaterial(color=color),\n",
    "             position=(p[0], p[1], p[2])))\n",
    "\n",
    "def initConnectors(l):\n",
    "    connectors = []\n",
    "    for s in l:\n",
    "        cA = s.connectorA\n",
    "        cB = s.connectorB\n",
    "        appendConnector(cA,connectors);\n",
    "        appendConnector(cB,connectors);\n",
    "    return connectors\n",
    "    \n",
    "\n",
    "def updateConnectors(l, connectors):\n",
    "    for i in range(len(l)):\n",
    "        cA = l[i].connectorA\n",
    "        cB = l[i].connectorB\n",
    "        pA = rbs.connectorPos(cA);\n",
    "        pB = rbs.connectorPos(cB);\n",
    "        connectors[2*i].position = (pA[0], pA[1], pA[2])\n",
    "        connectors[2*i+1].position = (pB[0], pB[1], pB[2])\n",
    "\n",
    "def positionsOf(l):\n",
    "    res = []\n",
    "    for s in l:\n",
    "        cA = s.connectorA\n",
    "        cB = s.connectorB\n",
    "        pA = rbs.connectorPos(cA);\n",
    "        pB = rbs.connectorPos(cB);\n",
    "        res.append ([ [pA[0], pA[1], pA[2]], [pB[0], pB[1], pB[2]] ])\n",
    "    return res\n",
    "\n",
    "\n",
    "#connectorsSprings = initConnectors(rbs.springs())\n",
    "#springpos = positionsOf(rbs.springs())\n",
    "\n",
    "#if springpos:\n",
    "#    springgeo = p3.LineSegmentsGeometry(positions=springpos)\n",
    "#    m2 = p3.LineMaterial(linewidth=3, color='cyan')\n",
    "#    springs = p3.LineSegments2(springgeo, m2)\n",
    "\n",
    "#connectorsBeams = initConnectors(rbs.beams())\n",
    "beampos = positionsOf(rbs.beams())\n",
    "\n",
    "if beampos:\n",
    "    beamgeo = p3.LineSegmentsGeometry(positions=beampos)\n",
    "    m2 = p3.LineMaterial(linewidth=4, color='blue')\n",
    "    beams = p3.LineSegments2(beamgeo, m2)\n"
   ]
  },
  {
   "cell_type": "code",
   "execution_count": null,
   "id": "1dbdc0df-703e-4ec9-9f76-3bbdb9348b13",
   "metadata": {
    "editable": true,
    "slideshow": {
     "slide_type": ""
    },
    "tags": []
   },
   "outputs": [],
   "source": [
    "view_width = 1000\n",
    "view_height = 700\n",
    "buffergeos = []\n",
    "p3meshes = []\n",
    "\n",
    "# set up pythreejs 3d objects\n",
    "for body in rbs.bodies():\n",
    "    buffergeom = p3.BufferGeometry(attributes = {\"position\" : p3.BufferAttribute(body.vertices), \"normal\" : p3.BufferAttribute(body.normals)})\n",
    "    material = p3.MeshPhongMaterial(color='#ff3333', shininess=150, morphTargets=True, side=\"DoubleSide\")\n",
    "    p3mesh = p3.Mesh(buffergeom, material, position=(0,0,0))\n",
    "    buffergeos.append(buffergeom)\n",
    "    p3meshes.append(p3mesh)\n",
    "\n",
    "# extra scene contents\n",
    "camera = p3.PerspectiveCamera( position=[10, 6, 10], aspect=view_width/view_height)\n",
    "key_light = p3.DirectionalLight(position=[0, 10, 10])\n",
    "ambient_light = p3.AmbientLight()\n",
    "grid = p3.GridHelper(500, 500//5, \"#2F4F4F\", \"#2F4F4F\")\n",
    "axesHelper = p3.AxesHelper(5)\n",
    "\n",
    "# set up scene\n",
    "scene = p3.Scene(children=[camera, key_light, ambient_light, grid, axesHelper, *p3meshes] + ([] if not beampos else [beams]))\n",
    "controller = p3.OrbitControls(controlling=camera)\n",
    "renderer = p3.Renderer(camera=camera, scene=scene, controls=[controller],\n",
    "                    width=view_width, height=view_height, antialias=True) # if performance is bad, try removing antalias=True"
   ]
  },
  {
   "cell_type": "code",
   "execution_count": 4,
   "id": "a9965a05-947e-4536-95ac-2421b1b9bb91",
   "metadata": {},
   "outputs": [
    {
     "ename": "NameError",
     "evalue": "name 'widgets' is not defined",
     "output_type": "error",
     "traceback": [
      "\u001b[0;31m---------------------------------------------------------------------------\u001b[0m",
      "\u001b[0;31mNameError\u001b[0m                                 Traceback (most recent call last)",
      "Cell \u001b[0;32mIn[4], line 2\u001b[0m\n\u001b[1;32m      1\u001b[0m \u001b[38;5;66;03m# play/reset button\u001b[39;00m\n\u001b[0;32m----> 2\u001b[0m play \u001b[38;5;241m=\u001b[39m \u001b[43mwidgets\u001b[49m\u001b[38;5;241m.\u001b[39mPlay(\n\u001b[1;32m      3\u001b[0m     value\u001b[38;5;241m=\u001b[39m\u001b[38;5;241m0\u001b[39m,\n\u001b[1;32m      4\u001b[0m     \u001b[38;5;28mmin\u001b[39m\u001b[38;5;241m=\u001b[39m\u001b[38;5;241m0\u001b[39m,\n\u001b[1;32m      5\u001b[0m     \u001b[38;5;28mmax\u001b[39m\u001b[38;5;241m=\u001b[39m\u001b[38;5;241m1000\u001b[39m,\n\u001b[1;32m      6\u001b[0m     step\u001b[38;5;241m=\u001b[39m\u001b[38;5;241m1\u001b[39m,\n\u001b[1;32m      7\u001b[0m     interval\u001b[38;5;241m=\u001b[39m\u001b[38;5;241m1\u001b[39m,\n\u001b[1;32m      8\u001b[0m     description\u001b[38;5;241m=\u001b[39m\u001b[38;5;124m\"\u001b[39m\u001b[38;5;124mPress play\u001b[39m\u001b[38;5;124m\"\u001b[39m,\n\u001b[1;32m      9\u001b[0m     disabled\u001b[38;5;241m=\u001b[39m\u001b[38;5;28;01mFalse\u001b[39;00m\n\u001b[1;32m     10\u001b[0m )\n",
      "\u001b[0;31mNameError\u001b[0m: name 'widgets' is not defined"
     ]
    }
   ],
   "source": [
    "# play/reset button\n",
    "play = widgets.Play(\n",
    "    value=0,\n",
    "    min=0,\n",
    "    max=1000,\n",
    "    step=1,\n",
    "    interval=1,\n",
    "    description=\"Press play\",\n",
    "    disabled=False\n",
    ")"
   ]
  },
  {
   "cell_type": "code",
   "execution_count": 14,
   "id": "7c4d4dbf-d88f-4c99-a46a-3d60711da7f3",
   "metadata": {},
   "outputs": [],
   "source": [
    "%matplotlib inline\n",
    "import matplotlib.pyplot as plt\n",
    "import numpy as np\n",
    "\n",
    "def display_energy(rbs, h):\n",
    "    plt.plot(np.arange(0, len(rbs.energy_logs)), rbs.energy_logs)\n",
    "    plt.plot((h**2) * np.ones(len(rbs.energy_logs)))\n",
    "    plt.plot(-(h**2) * np.ones(len(rbs.energy_logs)))\n",
    "    #plt.ylim(-0.01, 0.01)\n",
    "    plt.show()"
   ]
  },
  {
   "cell_type": "code",
   "execution_count": 15,
   "id": "e15b1b8d-a02a-4459-8236-d8b3a7757e58",
   "metadata": {},
   "outputs": [
    {
     "data": {
      "text/plain": [
       "(1.0, 0.0, 0.0, 0, 0.0, 1.0, 0.0, 0, 0.0, 0.0, 1.0, 0, 0.0, 0.0, 1.0, 1)"
      ]
     },
     "execution_count": 15,
     "metadata": {},
     "output_type": "execute_result"
    }
   ],
   "source": [
    "rbs.bodies()[0].asTuple()"
   ]
  },
  {
   "cell_type": "code",
   "execution_count": 16,
   "id": "118ca51d-42ff-48f1-9f2f-9f726df4ec55",
   "metadata": {},
   "outputs": [],
   "source": [
    "for m in p3meshes:\n",
    "    m.matrixAutoUpdate = False # make mesh movable\n",
    "\n",
    "def refresh():\n",
    "    \"updates all pythreejs object transformations\"\n",
    "    for i in range(0, len(rbs.bodies())):\n",
    "        p3meshes[i].matrix=rbs.bodies()[i].asTuple()\n",
    "    #updateConnectors(rbs.springs(),connectorsSprings)\n",
    "    #springpos = positionsOf(rbs.springs())\n",
    "    #if springpos:\n",
    "    #    springs.geometry = p3.LineSegmentsGeometry(positions=springpos)\n",
    "    \n",
    "    #updateConnectors(rbs.beams(),connectorsBeams)\n",
    "    beampos = positionsOf(rbs.beams())\n",
    "    if beampos:\n",
    "        beams.geometry = p3.LineSegmentsGeometry(positions=beampos)\n",
    "\n",
    "def update():\n",
    "    \"update function, gets called every timestep; quasi main loop\"\n",
    "    dt = 0.005\n",
    "    simulate(rbs, dt, 10)\n",
    "    #display_energy(rbs, dt)\n",
    "    refresh()\n",
    "\n",
    "def observer(state):\n",
    "    \"event handler for clickable buttons\"\n",
    "    # if there is a change in time\n",
    "    if state[\"name\"] == \"value\":\n",
    "        # it might be a reset\n",
    "        if str(state[\"new\"]) == \"0\":\n",
    "            #rbs.reset()\n",
    "            refresh()\n",
    "        # or it might be a progress in time\n",
    "        else:\n",
    "            update()\n",
    "    # repeat is used as an alias to reset\n",
    "    elif state[\"name\"] == \"repeat\":\n",
    "        #rbs.reset()\n",
    "        refresh()\n",
    "\n",
    "play.observe(observer)"
   ]
  },
  {
   "cell_type": "code",
   "execution_count": 17,
   "id": "14529dc9-4a67-4524-ad74-9b1c492302bc",
   "metadata": {},
   "outputs": [],
   "source": [
    "def disp():\n",
    "    display(widgets.HBox([play, widgets.HTML(\"<b>click-and-drag to rotate, scroll to zoom, right-click-and-drag to move<b>\")]))\n",
    "    display(renderer)\n",
    "    refresh()"
   ]
  },
  {
   "cell_type": "markdown",
   "id": "d925962e-ab80-4923-86b9-42eb7f564675",
   "metadata": {},
   "source": [
    "## Renderer"
   ]
  },
  {
   "cell_type": "code",
   "execution_count": 18,
   "id": "c24ce734-6568-4e53-b187-e8d80cb099f1",
   "metadata": {},
   "outputs": [
    {
     "ename": "NameError",
     "evalue": "name 'display_system' is not defined",
     "output_type": "error",
     "traceback": [
      "\u001b[0;31m---------------------------------------------------------------------------\u001b[0m",
      "\u001b[0;31mNameError\u001b[0m                                 Traceback (most recent call last)",
      "Cell \u001b[0;32mIn[18], line 4\u001b[0m\n\u001b[1;32m      1\u001b[0m \u001b[38;5;66;03m#display(widgets.HBox([play, widgets.HTML(\"<b>click-and-drag to rotate, scroll to zoom, right-click-and-drag to move<b>\")]))\u001b[39;00m\n\u001b[1;32m      2\u001b[0m \u001b[38;5;66;03m#display(renderer)\u001b[39;00m\n\u001b[1;32m      3\u001b[0m \u001b[38;5;66;03m#refresh()\u001b[39;00m\n\u001b[0;32m----> 4\u001b[0m \u001b[43mdisplay_system\u001b[49m(rbs, \u001b[38;5;241m0.001\u001b[39m)\n",
      "\u001b[0;31mNameError\u001b[0m: name 'display_system' is not defined"
     ]
    }
   ],
   "source": [
    "#display(widgets.HBox([play, widgets.HTML(\"<b>click-and-drag to rotate, scroll to zoom, right-click-and-drag to move<b>\")]))\n",
    "#display(renderer)\n",
    "#refresh()\n",
    "display_system(rbs, 0.001)"
   ]
  },
  {
   "cell_type": "code",
   "execution_count": 19,
   "id": "ee3db790-0a8e-45f6-87c1-c0852c5e5b8f",
   "metadata": {},
   "outputs": [
    {
     "data": {
      "application/vnd.jupyter.widget-view+json": {
       "model_id": "bce9ab84b3a84dd3a93e47e27fe9fb42",
       "version_major": 2,
       "version_minor": 0
      },
      "text/plain": [
       "HBox(children=(Play(value=0, description='Press play', interval=1, max=1000), HTML(value='<b>click-and-drag to…"
      ]
     },
     "metadata": {},
     "output_type": "display_data"
    },
    {
     "data": {
      "application/vnd.jupyter.widget-view+json": {
       "model_id": "fbd4326b536e45e3923ba4fdfac158c6",
       "version_major": 2,
       "version_minor": 0
      },
      "text/plain": [
       "Renderer(camera=PerspectiveCamera(aspect=1.4285714285714286, position=(10.0, 6.0, 10.0), projectionMatrix=(1.5…"
      ]
     },
     "metadata": {},
     "output_type": "display_data"
    }
   ],
   "source": [
    "disp()"
   ]
  },
  {
   "cell_type": "code",
   "execution_count": null,
   "id": "aee7e829-7827-4b0f-be7a-129cd1be9e6c",
   "metadata": {},
   "outputs": [],
   "source": []
  }
 ],
 "metadata": {
  "kernelspec": {
   "display_name": "Python 3 (ipykernel)",
   "language": "python",
   "name": "python3"
  },
  "language_info": {
   "codemirror_mode": {
    "name": "ipython",
    "version": 3
   },
   "file_extension": ".py",
   "mimetype": "text/x-python",
   "name": "python",
   "nbconvert_exporter": "python",
   "pygments_lexer": "ipython3",
   "version": "3.13.2"
  }
 },
 "nbformat": 4,
 "nbformat_minor": 5
}
