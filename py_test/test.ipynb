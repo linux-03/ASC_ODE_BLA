{
 "cells": [
  {
   "cell_type": "code",
   "execution_count": 1,
   "id": "d0c5e88a-8a5a-417f-8cb1-6292869ed643",
   "metadata": {},
   "outputs": [],
   "source": [
    "from rbFET_release import *"
   ]
  },
  {
   "cell_type": "code",
   "execution_count": 2,
   "id": "7af92e3a-5478-4cbc-a386-1d879cdfeb19",
   "metadata": {},
   "outputs": [],
   "source": [
    "# set up OCC CAD model\n",
    "# center of mass is automatically moved to origin by body_from_solid\n",
    "box = Box(Pnt(-0.3,-0.3,-0.3), Pnt(0.3,0.3,0.3))"
   ]
  },
  {
   "cell_type": "code",
   "execution_count": 3,
   "id": "f73367fe-33a8-4dbe-be9c-6f63abfb3d09",
   "metadata": {},
   "outputs": [],
   "source": [
    "# set up physics simulation environment\n",
    "rbs = RBS_FEM()\n",
    "#rbs.gravity = (0, -9.81, 0)\n",
    "\n",
    "# set up physics simulation object for cube\n",
    "r0 = body_from_solid(box)\n",
    "r1 = body_from_solid(box)\n",
    "r2 = body_from_solid(box)\n",
    "p_ = Vector(6)\n",
    "\n",
    "r0.q_trans = [0, 0, 1]\n",
    "r1.q_trans = [0, 0, 2]\n",
    "r2.q_trans = [0, 0, 3]\n",
    "r0.q[0, 0] = 1\n",
    "r0.q[1, 1] = 1\n",
    "r0.q[2, 2] = 1\n",
    "r1.q[0, 0] = 1\n",
    "r1.q[1, 1] = 1\n",
    "r1.q[2, 2] = 1\n",
    "r2.q[0, 0] = 1\n",
    "r2.q[1, 1] = 1\n",
    "r2.q[2, 2] = 1\n",
    "\n",
    "r0.p_skew = [0, 0, 0]\n",
    "r0.p_trans = [0, 0, 0]\n",
    "r1.p_skew = [0, 0, 0]\n",
    "r1.p_trans = [0, 0, 0]\n",
    "r2.p_skew = [0, 0, 0]\n",
    "r2.p_trans = [0, 0, 0]\n",
    "\n",
    "rbs.add(r0)\n",
    "#rbs.add(r1)\n",
    "#rbs.add(r2)\n",
    "\n",
    "c1 = Connector()\n",
    "c1.body_index = 0\n",
    "c1.RefPos = [0, 0.3, 0.3]\n",
    "c1.type = False\n",
    "\n",
    "#c2 = Connector()\n",
    "#c2.body_index = 1\n",
    "#c2.RefPos = [0, 0, 0]\n",
    "#c2.type = False\n",
    "\n",
    "#c3 = Connector()\n",
    "#c3.body_index = 2\n",
    "#c3.RefPos = [0, 0, 0]\n",
    "#c3.type = False\n",
    "\n",
    "c0 = Connector()\n",
    "c0.RefPos = [0, 0, 0]\n",
    "c0.type = True\n",
    "\n",
    "bm = Beam(c0, c1)\n",
    "#bm1 = Beam(c1, c2)\n",
    "#bm2 = Beam(c2, c3)\n",
    "\n",
    "rbs.add(bm)\n",
    "#rbs.add(bm1)\n",
    "#rbs.add(bm2)\n",
    "\n",
    "#rbs.saveState()\n",
    "#rbs.info_RBS()"
   ]
  },
  {
   "cell_type": "code",
   "execution_count": 4,
   "id": "e3228628-4b78-4ebc-b6af-240a2586d36d",
   "metadata": {},
   "outputs": [
    {
     "data": {
      "application/vnd.jupyter.widget-view+json": {
       "model_id": "e29dbbf36d9d411797434a5b3331979a",
       "version_major": 2,
       "version_minor": 0
      },
      "text/plain": [
       "Renderer(camera=PerspectiveCamera(aspect=1.4285714285714286, position=(10.0, 6.0, 10.0), projectionMatrix=(1.0…"
      ]
     },
     "metadata": {},
     "output_type": "display_data"
    }
   ],
   "source": [
    "display_system(rbs)"
   ]
  },
  {
   "cell_type": "code",
   "execution_count": null,
   "id": "47184251-2ec5-41a3-a899-46fa04f62514",
   "metadata": {},
   "outputs": [
    {
     "data": {
      "application/vnd.jupyter.widget-view+json": {
       "model_id": "7c81f9b464d0465784fc84f37419abf5",
       "version_major": 2,
       "version_minor": 0
      },
      "text/plain": [
       "Renderer(camera=PerspectiveCamera(aspect=1.4285714285714286, position=(10.0, 6.0, 10.0), projectionMatrix=(1.0…"
      ]
     },
     "metadata": {},
     "output_type": "display_data"
    }
   ],
   "source": [
    "simulate_system(rbs, 0.01, 10000)"
   ]
  },
  {
   "cell_type": "code",
   "execution_count": null,
   "id": "944fa7ab-3af5-4acf-a22c-39fc0fb22803",
   "metadata": {},
   "outputs": [],
   "source": []
  },
  {
   "cell_type": "code",
   "execution_count": null,
   "id": "109e48d4-7173-41fe-89d7-12589c73a896",
   "metadata": {},
   "outputs": [],
   "source": []
  }
 ],
 "metadata": {
  "kernelspec": {
   "display_name": "Python 3 (ipykernel)",
   "language": "python",
   "name": "python3"
  },
  "language_info": {
   "codemirror_mode": {
    "name": "ipython",
    "version": 3
   },
   "file_extension": ".py",
   "mimetype": "text/x-python",
   "name": "python",
   "nbconvert_exporter": "python",
   "pygments_lexer": "ipython3",
   "version": "3.13.2"
  }
 },
 "nbformat": 4,
 "nbformat_minor": 5
}
